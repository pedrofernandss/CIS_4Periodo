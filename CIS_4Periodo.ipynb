{
  "nbformat": 4,
  "nbformat_minor": 0,
  "metadata": {
    "colab": {
      "provenance": [],
      "mount_file_id": "1fGbYDJVib-eJMMC23KGSAlN1n1KixdS4",
      "authorship_tag": "ABX9TyPXulxefoF96MHXsBt0Wj+v",
      "include_colab_link": true
    },
    "kernelspec": {
      "name": "python3",
      "display_name": "Python 3"
    },
    "language_info": {
      "name": "python"
    }
  },
  "cells": [
    {
      "cell_type": "markdown",
      "metadata": {
        "id": "view-in-github",
        "colab_type": "text"
      },
      "source": [
        "<a href=\"https://colab.research.google.com/github/pedrofernandss/CIS_4Periodo/blob/main/CIS_4Periodo.ipynb\" target=\"_parent\"><img src=\"https://colab.research.google.com/assets/colab-badge.svg\" alt=\"Open In Colab\"/></a>"
      ]
    },
    {
      "cell_type": "code",
      "execution_count": null,
      "metadata": {
        "id": "FR28Kisq3LdQ"
      },
      "outputs": [],
      "source": [
        "import pandas as pd\n",
        "import numpy as np\n",
        "import tensorflow as tf\n",
        "import matplotlib.pyplot as plt\n",
        "from tensorflow import keras\n",
        "from keras.preprocessing.image import ImageDataGenerator"
      ]
    },
    {
      "cell_type": "code",
      "source": [
        "dataset = '/content/drive/MyDrive/CIS_4Periodo/dados'\n",
        "dir_treinamento = '/content/drive/MyDrive/CIS_4Periodo/dados/treinamento'\n",
        "dir_teste = '/content/drive/MyDrive/CIS_4Periodo/dados/teste'"
      ],
      "metadata": {
        "id": "yXTQx9VUAT32"
      },
      "execution_count": null,
      "outputs": []
    },
    {
      "cell_type": "markdown",
      "source": [
        "# Pré processamento"
      ],
      "metadata": {
        "id": "MvtPNI1bRkpH"
      }
    },
    {
      "cell_type": "markdown",
      "source": [
        "Em um primeiro momento, vamos usar o método ImageDataGenerator para definir os parametros de forma que nosso dataset de treinamento sofrerá, de maneira aleatória, zoom's, rotações, reescalonamento de cores e etc"
      ],
      "metadata": {
        "id": "220VeuPTR4zS"
      }
    },
    {
      "cell_type": "code",
      "source": [
        "treinamento_datagen = ImageDataGenerator(\n",
        "    rescale = 1./255,\n",
        "    zoom_range = 0.3,\n",
        "    rotation_range=20,\n",
        "    horizontal_flip=True,\n",
        "    validation_split=0.2)"
      ],
      "metadata": {
        "id": "9GKiH_wG9c7i"
      },
      "execution_count": null,
      "outputs": []
    },
    {
      "cell_type": "markdown",
      "source": [
        "Em seguida, aplicamos o mesmo método para que nosso dataset de teste sofra apenas um reescalonamento de cor (intervalo rgb passará a ser entre 0 e 1)"
      ],
      "metadata": {
        "id": "sgELH1RHSiQC"
      }
    },
    {
      "cell_type": "code",
      "source": [
        "teste_datagen = ImageDataGenerator(rescale=1./255)"
      ],
      "metadata": {
        "id": "F4QYfh5Mwrpf"
      },
      "execution_count": null,
      "outputs": []
    },
    {
      "cell_type": "markdown",
      "source": [
        "vamos definir nossos dataset's de treinamento, validação e teste. Todos foram possuiram seu diretorio de origem indicados, imagens ajustadas para tamanho 150x150 e treinamento e testes foram embaralhados."
      ],
      "metadata": {
        "id": "7pX6cjhgS-pg"
      }
    },
    {
      "cell_type": "code",
      "source": [
        "treinamento_generator = treinamento_datagen.flow_from_directory(\n",
        "    directory = dir_treinamento,\n",
        "    target_size= (150,150),\n",
        "    color_mode= 'rgb',\n",
        "    batch_size= 32,\n",
        "    classes=['cats', 'dogs', 'panda'],\n",
        "    class_mode= 'categorical',\n",
        "    subset= 'training',\n",
        "    shuffle= True,\n",
        "    seed=42\n",
        ")\n",
        "\n",
        "validacao_generator = treinamento_datagen.flow_from_directory(\n",
        "    directory = dir_treinamento,\n",
        "    target_size= (150,150),\n",
        "    color_mode= 'rgb',\n",
        "    batch_size= 32,\n",
        "    classes=['cats', 'dogs', 'panda'],\n",
        "    class_mode= 'categorical',\n",
        "    subset= 'validation',\n",
        "    shuffle= True,\n",
        "    seed=42\n",
        ")\n",
        "\n",
        "teste_generator = teste_datagen.flow_from_directory(\n",
        "    directory = dir_teste,\n",
        "    target_size= (150,150),\n",
        "    color_mode= 'rgb',\n",
        "    batch_size= 32,\n",
        "    classes=['cats', 'dogs', 'panda'],\n",
        "    class_mode= 'categorical',\n",
        "    shuffle= False,\n",
        "    seed=42\n",
        ")"
      ],
      "metadata": {
        "colab": {
          "base_uri": "https://localhost:8080/"
        },
        "id": "6xR_fyuaWhus",
        "outputId": "f42cfdc1-6cd4-4e24-b04f-c6193bf49b06"
      },
      "execution_count": null,
      "outputs": [
        {
          "output_type": "stream",
          "name": "stdout",
          "text": [
            "Found 1920 images belonging to 3 classes.\n",
            "Found 480 images belonging to 3 classes.\n",
            "Found 600 images belonging to 3 classes.\n"
          ]
        }
      ]
    },
    {
      "cell_type": "markdown",
      "source": [
        "# CNN"
      ],
      "metadata": {
        "id": "mAiM4LOTRg_x"
      }
    },
    {
      "cell_type": "markdown",
      "source": [
        "Ao criar nossa CNN, vamos determinar que ela possui 1 camada de input, 2 camadas ocultas e 1 camada de output. Além de realizar a normalização dos batch's."
      ],
      "metadata": {
        "id": "L7lU0om5Tm_1"
      }
    },
    {
      "cell_type": "code",
      "source": [
        "model = tf.keras.Sequential([\n",
        "    tf.keras.layers.BatchNormalization(),\n",
        "    tf.keras.layers.Conv2D(32,(5,5), activation = 'relu', input_shape = (150, 150, 3)),\n",
        "    tf.keras.layers.MaxPool2D(2),\n",
        "    tf.keras.layers.Conv2D(32,(5,5), activation = 'relu'),\n",
        "    tf.keras.layers.Flatten(),\n",
        "    tf.keras.layers.Dense(32, activation='relu'),\n",
        "    tf.keras.layers.BatchNormalization(),\n",
        "    tf.keras.layers.Dense(3, activation='softmax')\n",
        "])"
      ],
      "metadata": {
        "id": "nOPnt9yxdZm5"
      },
      "execution_count": null,
      "outputs": []
    },
    {
      "cell_type": "code",
      "source": [
        "model.compile(optimizer = 'adam', loss = 'categorical_crossentropy', metrics=['accuracy'])"
      ],
      "metadata": {
        "id": "CeOYBTBB6TsC"
      },
      "execution_count": null,
      "outputs": []
    },
    {
      "cell_type": "code",
      "source": [
        "history = model.fit(treinamento_generator,\n",
        "          validation_data = validacao_generator,\n",
        "          steps_per_epoch = treinamento_generator.samples // 32,\n",
        "          validation_steps = validacao_generator.samples // 32,\n",
        "          epochs=10)"
      ],
      "metadata": {
        "colab": {
          "base_uri": "https://localhost:8080/"
        },
        "id": "Ownp4I3GvYqd",
        "outputId": "4a73bd33-1f59-426c-814e-b030430e66e8"
      },
      "execution_count": null,
      "outputs": [
        {
          "output_type": "stream",
          "name": "stdout",
          "text": [
            "Epoch 1/10\n",
            "60/60 [==============================] - 1046s 17s/step - loss: 0.8932 - accuracy: 0.5932 - val_loss: 0.9065 - val_accuracy: 0.5354\n",
            "Epoch 2/10\n",
            "60/60 [==============================] - 166s 3s/step - loss: 0.7321 - accuracy: 0.6401 - val_loss: 0.9349 - val_accuracy: 0.4854\n",
            "Epoch 3/10\n",
            "60/60 [==============================] - 160s 3s/step - loss: 0.7276 - accuracy: 0.6370 - val_loss: 1.3113 - val_accuracy: 0.4062\n",
            "Epoch 4/10\n",
            "60/60 [==============================] - 167s 3s/step - loss: 0.6892 - accuracy: 0.6490 - val_loss: 1.3916 - val_accuracy: 0.3875\n",
            "Epoch 5/10\n",
            "60/60 [==============================] - 172s 3s/step - loss: 0.7103 - accuracy: 0.6453 - val_loss: 0.7143 - val_accuracy: 0.6458\n",
            "Epoch 6/10\n",
            "60/60 [==============================] - 170s 3s/step - loss: 0.6612 - accuracy: 0.6849 - val_loss: 0.8470 - val_accuracy: 0.5896\n",
            "Epoch 7/10\n",
            "60/60 [==============================] - 172s 3s/step - loss: 0.6364 - accuracy: 0.6948 - val_loss: 0.7950 - val_accuracy: 0.6438\n",
            "Epoch 8/10\n",
            "60/60 [==============================] - 164s 3s/step - loss: 0.6328 - accuracy: 0.7005 - val_loss: 0.7821 - val_accuracy: 0.6479\n",
            "Epoch 9/10\n",
            "60/60 [==============================] - 153s 3s/step - loss: 0.6470 - accuracy: 0.6990 - val_loss: 0.6403 - val_accuracy: 0.7167\n",
            "Epoch 10/10\n",
            "60/60 [==============================] - 160s 3s/step - loss: 0.6025 - accuracy: 0.7182 - val_loss: 1.0258 - val_accuracy: 0.5188\n"
          ]
        }
      ]
    },
    {
      "cell_type": "code",
      "source": [
        "plt.plot(history.history['accuracy'])\n",
        "plt.plot(history.history['val_accuracy'])\n",
        "plt.title('Model Accuracy')\n",
        "plt.ylabel('Accuracy')\n",
        "plt.xlabel('Epoch')\n",
        "plt.legend(['Training', 'Validation'])\n",
        "plt.show"
      ],
      "metadata": {
        "colab": {
          "base_uri": "https://localhost:8080/",
          "height": 489
        },
        "id": "mMG1tB1Tjz69",
        "outputId": "b800d01a-7d5b-4c60-f30b-2494d68ee849"
      },
      "execution_count": null,
      "outputs": [
        {
          "output_type": "execute_result",
          "data": {
            "text/plain": [
              "<function matplotlib.pyplot.show(close=None, block=None)>"
            ]
          },
          "metadata": {},
          "execution_count": 12
        },
        {
          "output_type": "display_data",
          "data": {
            "text/plain": [
              "<Figure size 640x480 with 1 Axes>"
            ],
            "image/png": "[encoded data removed]"
          },
          "metadata": {}
        }
      ]
    },
    {
      "cell_type": "code",
      "source": [
        "score = model.evaluate(teste_generator)\n",
        "print('Test loss:', score[0])\n",
        "print('Test accuracy:', score[1])"
      ],
      "metadata": {
        "colab": {
          "base_uri": "https://localhost:8080/"
        },
        "id": "LkkXPUo85BM6",
        "outputId": "b8a2c742-c9d2-4485-8ac9-627367dd995e"
      },
      "execution_count": null,
      "outputs": [
        {
          "output_type": "stream",
          "name": "stdout",
          "text": [
            "19/19 [==============================] - 317s 18s/step - loss: 0.7569 - accuracy: 0.6567\n",
            "Test loss: 0.7568753957748413\n",
            "Test accuracy: 0.6566666960716248\n"
          ]
        }
      ]
    },
    {
      "cell_type": "markdown",
      "source": [
        "Ao realizar o treinamento e teste, verificamos que o algoritmo não possui uma perfomance tão satisfatória tanto no que diz respeito em tempo de execução de trainemento como em acurácia. Vamos tentar aplicar a técnica de dropout para tentar solucionar o problema de tempo d execução."
      ],
      "metadata": {
        "id": "dsPY-Vl4UsUN"
      }
    },
    {
      "cell_type": "code",
      "source": [
        "model = tf.keras.Sequential([\n",
        "    tf.keras.layers.BatchNormalization(),\n",
        "    tf.keras.layers.Dropout(.2),\n",
        "    tf.keras.layers.Conv2D(32,(5,5), activation = 'relu', input_shape = (150, 150, 3)),\n",
        "    tf.keras.layers.MaxPool2D(2),\n",
        "    tf.keras.layers.Dropout(.2),\n",
        "    tf.keras.layers.BatchNormalization(),\n",
        "    tf.keras.layers.Conv2D(32,(5,5), activation = 'relu'),\n",
        "    tf.keras.layers.Flatten(),\n",
        "    tf.keras.layers.Dropout(.2),\n",
        "    tf.keras.layers.Dense(32, activation='relu'),\n",
        "    tf.keras.layers.Dropout(.2),\n",
        "    tf.keras.layers.Dense(3, activation='softmax')\n",
        "])"
      ],
      "metadata": {
        "id": "5BPN5hcMrODi"
      },
      "execution_count": null,
      "outputs": []
    },
    {
      "cell_type": "code",
      "source": [
        "model.compile(optimizer = 'adam', loss = 'categorical_crossentropy', metrics=['accuracy'])"
      ],
      "metadata": {
        "id": "E9JQT43rsKE8"
      },
      "execution_count": null,
      "outputs": []
    },
    {
      "cell_type": "code",
      "source": [
        "history2 = model.fit(treinamento_generator,\n",
        "          validation_data = validacao_generator,\n",
        "          steps_per_epoch = treinamento_generator.samples // 32,\n",
        "          validation_steps = validacao_generator.samples // 32,\n",
        "          epochs=10)"
      ],
      "metadata": {
        "colab": {
          "base_uri": "https://localhost:8080/"
        },
        "id": "NnZM7AePsMsG",
        "outputId": "77a868e9-3a79-4946-e0f6-aae83a4fa7aa"
      },
      "execution_count": null,
      "outputs": [
        {
          "output_type": "stream",
          "name": "stdout",
          "text": [
            "Epoch 1/10\n",
            "60/60 [==============================] - 182s 3s/step - loss: 3.7767 - accuracy: 0.3510 - val_loss: 1.0987 - val_accuracy: 0.3333\n",
            "Epoch 2/10\n",
            "60/60 [==============================] - 181s 3s/step - loss: 1.0987 - accuracy: 0.3333 - val_loss: 1.0987 - val_accuracy: 0.3333\n",
            "Epoch 3/10\n",
            "60/60 [==============================] - 179s 3s/step - loss: 1.0987 - accuracy: 0.3333 - val_loss: 1.0986 - val_accuracy: 0.3333\n",
            "Epoch 4/10\n",
            "60/60 [==============================] - 167s 3s/step - loss: 1.0987 - accuracy: 0.3333 - val_loss: 1.0986 - val_accuracy: 0.3333\n",
            "Epoch 5/10\n",
            "60/60 [==============================] - 182s 3s/step - loss: 1.0987 - accuracy: 0.3333 - val_loss: 1.0986 - val_accuracy: 0.3333\n",
            "Epoch 6/10\n",
            "60/60 [==============================] - 168s 3s/step - loss: 1.0987 - accuracy: 0.3333 - val_loss: 1.0986 - val_accuracy: 0.3333\n",
            "Epoch 7/10\n",
            "60/60 [==============================] - 171s 3s/step - loss: 1.0987 - accuracy: 0.3333 - val_loss: 1.0986 - val_accuracy: 0.3333\n",
            "Epoch 8/10\n",
            "60/60 [==============================] - 167s 3s/step - loss: 1.0987 - accuracy: 0.3177 - val_loss: 1.0986 - val_accuracy: 0.3333\n",
            "Epoch 9/10\n",
            "60/60 [==============================] - 178s 3s/step - loss: 1.0987 - accuracy: 0.3333 - val_loss: 1.0986 - val_accuracy: 0.3333\n",
            "Epoch 10/10\n",
            "60/60 [==============================] - 179s 3s/step - loss: 1.0987 - accuracy: 0.3245 - val_loss: 1.0986 - val_accuracy: 0.3333\n"
          ]
        }
      ]
    },
    {
      "cell_type": "code",
      "source": [
        "plt.plot(history2.history['accuracy'])\n",
        "plt.plot(history2.history['val_accuracy'])\n",
        "plt.title('Model Accuracy')\n",
        "plt.ylabel('Accuracy')\n",
        "plt.xlabel('Epoch')\n",
        "plt.legend(['Training', 'Validation'])\n",
        "plt.show"
      ],
      "metadata": {
        "colab": {
          "base_uri": "https://localhost:8080/",
          "height": 489
        },
        "id": "_cJMGfr_sNyI",
        "outputId": "361fd9fb-4d6e-4725-ef0a-fb3e4911a454"
      },
      "execution_count": null,
      "outputs": [
        {
          "output_type": "execute_result",
          "data": {
            "text/plain": [
              "<function matplotlib.pyplot.show(close=None, block=None)>"
            ]
          },
          "metadata": {},
          "execution_count": 22
        },
        {
          "output_type": "display_data",
          "data": {
            "text/plain": [
              "<Figure size 640x480 with 1 Axes>"
            ],
            "image/png": "[encoded data removed]"
          },
          "metadata": {}
        }
      ]
    },
    {
      "cell_type": "code",
      "source": [
        "score2 = model.evaluate(teste_generator)\n",
        "print('Test loss:', score2[0])\n",
        "print('Test accuracy:', score2[1])"
      ],
      "metadata": {
        "colab": {
          "base_uri": "https://localhost:8080/"
        },
        "id": "zk7k5cnVsXgF",
        "outputId": "cbe21d43-7e79-4fa6-f6c3-4b829e41059b"
      },
      "execution_count": null,
      "outputs": [
        {
          "output_type": "stream",
          "name": "stdout",
          "text": [
            "19/19 [==============================] - 11s 551ms/step - loss: 1.0986 - accuracy: 0.3333\n",
            "Test loss: 1.098616600036621\n",
            "Test accuracy: 0.3333333432674408\n"
          ]
        }
      ]
    },
    {
      "cell_type": "markdown",
      "source": [
        "Ao re-executar o algoritmo, é possível observar que houve uma queda no tempo de execução (tanto no treinamento como no teste) porém a acurácia também foi menor. Acredita-se que isso ocorre devido a quantidade de neurônios ativados serem menores.\n",
        "\n",
        "Para tentar solucionar esse problema de acurácia, vamos utilizar o aprendizado pro transferência."
      ],
      "metadata": {
        "id": "hnzCxOpBVCQx"
      }
    },
    {
      "cell_type": "markdown",
      "source": [
        "# Aprendizado por transferência"
      ],
      "metadata": {
        "id": "KT7wqoqHRZS2"
      }
    },
    {
      "cell_type": "code",
      "source": [
        "modelo_base = keras.applications.xception.Xception(weights='imagenet', include_top=False, input_shape=(150, 150, 3))\n",
        "for layer in modelo_base.layers:\n",
        "  layer.trainable = False"
      ],
      "metadata": {
        "id": "1kzuUHvFVeJ4"
      },
      "execution_count": null,
      "outputs": []
    },
    {
      "cell_type": "code",
      "source": [
        "model = tf.keras.Sequential()\n",
        "model.add(modelo_base)\n",
        "model.add(tf.keras.layers.Flatten())\n",
        "model.add(tf.keras.layers.Dropout(.2))\n",
        "model.add(tf.keras.layers.Dense(32, activation='relu'))\n",
        "model.add(tf.keras.layers.BatchNormalization())\n",
        "model.add(tf.keras.layers.Dropout(.2))\n",
        "model.add(tf.keras.layers.Dense(3, activation='softmax'))"
      ],
      "metadata": {
        "id": "hHFrgGj_XAOb"
      },
      "execution_count": null,
      "outputs": []
    },
    {
      "cell_type": "code",
      "source": [
        "model.summary()"
      ],
      "metadata": {
        "colab": {
          "base_uri": "https://localhost:8080/"
        },
        "id": "irMvM0qNYvdx",
        "outputId": "8c4cfedb-6054-4704-9b38-faa65147790f"
      },
      "execution_count": null,
      "outputs": [
        {
          "output_type": "stream",
          "name": "stdout",
          "text": [
            "Model: \"sequential_6\"\n",
            "_________________________________________________________________\n",
            " Layer (type)                Output Shape              Param #   \n",
            "=================================================================\n",
            " xception (Functional)       (None, 5, 5, 2048)        20861480  \n",
            "                                                                 \n",
            " flatten_5 (Flatten)         (None, 51200)             0         \n",
            "                                                                 \n",
            " dropout_10 (Dropout)        (None, 51200)             0         \n",
            "                                                                 \n",
            " dense_10 (Dense)            (None, 32)                1638432   \n",
            "                                                                 \n",
            " batch_normalization_30 (Bat  (None, 32)               128       \n",
            " chNormalization)                                                \n",
            "                                                                 \n",
            " dropout_11 (Dropout)        (None, 32)                0         \n",
            "                                                                 \n",
            " dense_11 (Dense)            (None, 3)                 99        \n",
            "                                                                 \n",
            "=================================================================\n",
            "Total params: 22,500,139\n",
            "Trainable params: 1,638,595\n",
            "Non-trainable params: 20,861,544\n",
            "_________________________________________________________________\n"
          ]
        }
      ]
    },
    {
      "cell_type": "code",
      "source": [
        "model.compile(optimizer = 'adam', loss = 'categorical_crossentropy', metrics=['accuracy'])"
      ],
      "metadata": {
        "id": "w3eNWzR9ZOQ5"
      },
      "execution_count": null,
      "outputs": []
    },
    {
      "cell_type": "code",
      "source": [
        "history = model.fit(treinamento_generator,\n",
        "          validation_data = validacao_generator,\n",
        "          steps_per_epoch = treinamento_generator.samples // 32,\n",
        "          validation_steps = validacao_generator.samples // 32,\n",
        "          epochs=5)"
      ],
      "metadata": {
        "colab": {
          "base_uri": "https://localhost:8080/"
        },
        "id": "vkGQD1OtZXLA",
        "outputId": "01d1759a-ec64-410b-f7d0-1b8345821734"
      },
      "execution_count": null,
      "outputs": [
        {
          "output_type": "stream",
          "name": "stdout",
          "text": [
            "Epoch 1/5\n",
            "60/60 [==============================] - 287s 5s/step - loss: 0.1074 - accuracy: 0.9609 - val_loss: 0.0897 - val_accuracy: 0.9667\n",
            "Epoch 2/5\n",
            "60/60 [==============================] - 287s 5s/step - loss: 0.0917 - accuracy: 0.9682 - val_loss: 0.1292 - val_accuracy: 0.9500\n",
            "Epoch 3/5\n",
            "60/60 [==============================] - 284s 5s/step - loss: 0.0946 - accuracy: 0.9672 - val_loss: 0.1251 - val_accuracy: 0.9563\n",
            "Epoch 4/5\n",
            "60/60 [==============================] - 284s 5s/step - loss: 0.0745 - accuracy: 0.9708 - val_loss: 0.1467 - val_accuracy: 0.9438\n",
            "Epoch 5/5\n",
            "60/60 [==============================] - 289s 5s/step - loss: 0.0680 - accuracy: 0.9776 - val_loss: 0.0958 - val_accuracy: 0.9667\n"
          ]
        }
      ]
    },
    {
      "cell_type": "code",
      "source": [
        "score = model.evaluate(teste_generator)\n",
        "print('Test loss:', score[0])\n",
        "print('Test accuracy:', score[1])"
      ],
      "metadata": {
        "colab": {
          "base_uri": "https://localhost:8080/"
        },
        "id": "aZbcFmqsnq2j",
        "outputId": "682574ac-c80f-4a40-cc23-0e3e41c45da2"
      },
      "execution_count": null,
      "outputs": [
        {
          "output_type": "stream",
          "name": "stdout",
          "text": [
            "19/19 [==============================] - 62s 3s/step - loss: 0.1027 - accuracy: 0.9650\n",
            "Test loss: 0.10273013263940811\n",
            "Test accuracy: 0.9649999737739563\n"
          ]
        }
      ]
    },
    {
      "cell_type": "markdown",
      "source": [
        "# Conclusão"
      ],
      "metadata": {
        "id": "BzCokytlRT3J"
      }
    },
    {
      "cell_type": "markdown",
      "source": [
        "Em um primeiro momento, com a utilização apenas da técnica de batch normalization, houve uma demora grande na execução do algoritmo e uma baixa acurácia.\n",
        "\n",
        "Para solucionar esse problema, adicionams a técnica de técnica de dropout, o tempo de execução foi menor, entretanto, houve uma queda na performance do algoritmo.\n",
        "\n",
        "Por fim, para corrigir a queda de acurácia, utilizamos a técnica de transfer learning com o algoritmo de Xception o que possibilitou um aumento de acurácia bastante expressivo."
      ],
      "metadata": {
        "id": "QzDpPKYkQq-L"
      }
    }
  ]
}